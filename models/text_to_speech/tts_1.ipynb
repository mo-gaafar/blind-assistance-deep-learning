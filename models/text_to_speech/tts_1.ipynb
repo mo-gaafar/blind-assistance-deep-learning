{
  "cells": [
    {
      "cell_type": "markdown",
      "metadata": {
        "id": "S5Ac4ISb0Se_"
      },
      "source": [
        "### **Coqui-TTS Model**"
      ]
    },
    {
      "cell_type": "code",
      "execution_count": null,
      "metadata": {
        "id": "AKXWjwel0k4_"
      },
      "outputs": [],
      "source": [
        "#pip install tts\n",
        "#pip install espeak-ng"
      ]
    },
    {
      "cell_type": "code",
      "execution_count": null,
      "metadata": {
        "id": "xuuztUwS0hWm"
      },
      "outputs": [],
      "source": [
        "from TTS.api import TTS\n",
        "\n",
        "TTS.list_models() #just to know the model name (to choose the language and voice)"
      ]
    },
    {
      "cell_type": "markdown",
      "metadata": {
        "id": "F9V1VHNx1W4Q"
      },
      "source": [
        "### **Sample text for testing**"
      ]
    },
    {
      "cell_type": "code",
      "execution_count": null,
      "metadata": {
        "id": "ap0FZBri1ezI"
      },
      "outputs": [],
      "source": [
        "text = \"Hello, This is our project!!\""
      ]
    },
    {
      "cell_type": "markdown",
      "metadata": {
        "id": "oabVxyXD1rsg"
      },
      "source": [
        "### **Generating speech**"
      ]
    },
    {
      "cell_type": "code",
      "execution_count": null,
      "metadata": {
        "id": "3M4GKTJ51yJt"
      },
      "outputs": [],
      "source": [
        "tts = TTS(model_name=\"tts_models/en/blizzard2013/capacitron-t2-c150_v2\", progress_bar=True, gpu=True) # Init TTS with the target model name you choose from the list\n",
        "\n",
        "tts.tts_to_file(text=text, file_path=\"text_To_Speech.wav\") # Run TTS"
      ]
    },
    {
      "cell_type": "markdown",
      "metadata": {
        "id": "tcUGG8Y82ILO"
      },
      "source": [
        "### **Listen to generated audio**"
      ]
    },
    {
      "cell_type": "code",
      "execution_count": null,
      "metadata": {
        "id": "uqPJjwLU2MDX"
      },
      "outputs": [],
      "source": [
        "from IPython.display import Audio\n",
        "\n",
        "Audio('text_To_Speech.wav')"
      ]
    }
  ],
  "metadata": {
    "colab": {
      "provenance": []
    },
    "kernelspec": {
      "display_name": "Python 3",
      "name": "python3"
    },
    "language_info": {
      "name": "python",
      "version": "3.10.9"
    }
  },
  "nbformat": 4,
  "nbformat_minor": 0
}
