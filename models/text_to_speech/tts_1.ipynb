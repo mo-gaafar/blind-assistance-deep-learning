{
  "nbformat": 4,
  "nbformat_minor": 0,
  "metadata": {
    "colab": {
      "provenance": []
    },
    "kernelspec": {
      "name": "python3",
      "display_name": "Python 3"
    },
    "language_info": {
      "name": "python"
    }
  },
  "cells": [
    {
      "cell_type": "markdown",
      "source": [
        "### **Coqui-TTS Model**"
      ],
      "metadata": {
        "id": "S5Ac4ISb0Se_"
      }
    },
    {
      "cell_type": "code",
      "source": [
        "#pip install tts\n",
        "#pip install espeak-ng"
      ],
      "metadata": {
        "id": "AKXWjwel0k4_"
      },
      "execution_count": null,
      "outputs": []
    },
    {
      "cell_type": "code",
      "source": [
        "from TTS.api import TTS\n",
        "from IPython.display import Audio\n",
        "\n",
        "TTS.list_models() #just to know the model name (to choose the language and voice)"
      ],
      "metadata": {
        "id": "xuuztUwS0hWm"
      },
      "execution_count": null,
      "outputs": []
    },
    {
      "cell_type": "markdown",
      "source": [
        "### **Sample text for testing**"
      ],
      "metadata": {
        "id": "F9V1VHNx1W4Q"
      }
    },
    {
      "cell_type": "code",
      "source": [
        "text = \"Hello, This is our project!!\""
      ],
      "metadata": {
        "id": "ap0FZBri1ezI"
      },
      "execution_count": null,
      "outputs": []
    },
    {
      "cell_type": "markdown",
      "source": [
        "### **Generating speech**"
      ],
      "metadata": {
        "id": "oabVxyXD1rsg"
      }
    },
    {
      "cell_type": "code",
      "source": [
        "def generate_text_to_speech(text):\n",
        "\n",
        "  tts = TTS(model_name=\"tts_models/en/blizzard2013/capacitron-t2-c150_v2\", progress_bar=True, gpu=True) # Init TTS with the target model name you choose from the list\n",
        "  tts.tts_to_file(text=text, file_path=\"text_To_Speech.wav\") # Run TTS\n",
        "\n",
        "  generate_audio(file_path)\n"
      ],
      "metadata": {
        "id": "3M4GKTJ51yJt"
      },
      "execution_count": null,
      "outputs": []
    },
    {
      "cell_type": "markdown",
      "source": [
        "### **Listen to generated audio**"
      ],
      "metadata": {
        "id": "tcUGG8Y82ILO"
      }
    },
    {
      "cell_type": "code",
      "source": [
        "def generate_audio(file_path)\n",
        "\n",
        "Audio(file_path)"
      ],
      "metadata": {
        "id": "uqPJjwLU2MDX"
      },
      "execution_count": null,
      "outputs": []
    }
  ]
}